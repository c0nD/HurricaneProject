{
 "cells": [
  {
   "cell_type": "code",
   "execution_count": 33,
   "metadata": {},
   "outputs": [],
   "source": [
    "import pandas as pd\n",
    "import numpy as np"
   ]
  },
  {
   "cell_type": "code",
   "execution_count": 34,
   "metadata": {},
   "outputs": [],
   "source": [
    "df = pd.read_csv('pacific.csv')"
   ]
  },
  {
   "cell_type": "code",
   "execution_count": 35,
   "metadata": {},
   "outputs": [],
   "source": [
    "df.replace(-999, np.nan, inplace=True)"
   ]
  },
  {
   "cell_type": "code",
   "execution_count": 36,
   "metadata": {},
   "outputs": [],
   "source": [
    "def convert_lat_long(val):\n",
    "    # removes the direction (n/s/e/w) and converts to float, negates if south or west\n",
    "    direction = val[-1]\n",
    "    val = float(val[:-1])\n",
    "    if direction in ['S', 'W']:\n",
    "        val *= -1\n",
    "    return val"
   ]
  },
  {
   "cell_type": "code",
   "execution_count": 37,
   "metadata": {},
   "outputs": [],
   "source": [
    "df['Latitude'] = df['Latitude'].apply(convert_lat_long)\n",
    "df['Longitude'] = df['Longitude'].apply(convert_lat_long)"
   ]
  },
  {
   "cell_type": "code",
   "execution_count": 38,
   "metadata": {},
   "outputs": [],
   "source": [
    "# parsing dates and times to combine into a datetime column\n",
    "df['Date'] = pd.to_datetime(df['Date'], format='%Y%m%d')\n",
    "df['Time'] = df['Time'].apply(lambda x: \"{:04d}\".format(x))  # pads to be 4 digits\n",
    "df['Time'] = pd.to_timedelta(df['Time'].str[:2] + ':' + df['Time'].str[2:] + ':00')  # converts to timedelta (duration / diff between 2 dates/tiems)\n",
    "df['DateTime'] = df['Date'] + df['Time']\n",
    "df.drop(['Date', 'Time'], axis=1, inplace=True)"
   ]
  },
  {
   "cell_type": "code",
   "execution_count": 39,
   "metadata": {},
   "outputs": [],
   "source": [
    "# ensure numeric columns are of the correct data type\n",
    "numeric_cols = ['Maximum Wind', 'Minimum Pressure', 'Low Wind NE', 'Low Wind SE', 'Low Wind SW', 'Low Wind NW', 'Moderate Wind NE', 'Moderate Wind SE', 'Moderate Wind SW', 'Moderate Wind NW', 'High Wind NE', 'High Wind SE', 'High Wind SW', 'High Wind NW']\n",
    "df[numeric_cols] = df[numeric_cols].apply(pd.to_numeric, errors='coerce')"
   ]
  },
  {
   "cell_type": "code",
   "execution_count": 40,
   "metadata": {},
   "outputs": [
    {
     "name": "stdout",
     "output_type": "stream",
     "text": [
      "         ID                 Name Event Status  Latitude  Longitude  \\\n",
      "0  EP011949              UNNAMED           TS      20.2     -106.3   \n",
      "1  EP011949              UNNAMED           TS      20.2     -106.4   \n",
      "2  EP011949              UNNAMED           TS      20.2     -106.7   \n",
      "3  EP011949              UNNAMED           TS      20.3     -107.7   \n",
      "4  EP011949              UNNAMED           TS      20.4     -108.6   \n",
      "\n",
      "   Maximum Wind  Minimum Pressure  Low Wind NE  Low Wind SE  ...  Low Wind NW  \\\n",
      "0            45               NaN          NaN          NaN  ...          NaN   \n",
      "1            45               NaN          NaN          NaN  ...          NaN   \n",
      "2            45               NaN          NaN          NaN  ...          NaN   \n",
      "3            45               NaN          NaN          NaN  ...          NaN   \n",
      "4            45               NaN          NaN          NaN  ...          NaN   \n",
      "\n",
      "   Moderate Wind NE  Moderate Wind SE  Moderate Wind SW  Moderate Wind NW  \\\n",
      "0               NaN               NaN               NaN               NaN   \n",
      "1               NaN               NaN               NaN               NaN   \n",
      "2               NaN               NaN               NaN               NaN   \n",
      "3               NaN               NaN               NaN               NaN   \n",
      "4               NaN               NaN               NaN               NaN   \n",
      "\n",
      "   High Wind NE  High Wind SE  High Wind SW  High Wind NW            DateTime  \n",
      "0           NaN           NaN           NaN           NaN 1949-06-11 00:00:00  \n",
      "1           NaN           NaN           NaN           NaN 1949-06-11 06:00:00  \n",
      "2           NaN           NaN           NaN           NaN 1949-06-11 12:00:00  \n",
      "3           NaN           NaN           NaN           NaN 1949-06-11 18:00:00  \n",
      "4           NaN           NaN           NaN           NaN 1949-06-12 00:00:00  \n",
      "\n",
      "[5 rows x 21 columns] 548877\n"
     ]
    }
   ],
   "source": [
    "print(df.head(), df.size)"
   ]
  },
  {
   "cell_type": "code",
   "execution_count": 41,
   "metadata": {},
   "outputs": [],
   "source": [
    "missing_data_threshold = 0.2  # 20% threshold for removal\n",
    "imputation_threshold = 0.8   # 80% threshold for imputation"
   ]
  },
  {
   "cell_type": "code",
   "execution_count": 42,
   "metadata": {},
   "outputs": [],
   "source": [
    "# Calculate the percentage of missing values for each hurricane (ID)\n",
    "missing_percentage_by_id = df.isnull().groupby(df['ID']).mean().max(axis=1)\n",
    "\n",
    "# Find IDs with missing data above the threshold\n",
    "ids_to_remove = missing_percentage_by_id[missing_percentage_by_id > missing_data_threshold].index\n",
    "\n",
    "# Remove those IDs from the DataFrame\n",
    "df = df[~df['ID'].isin(ids_to_remove)]\n",
    "\n",
    "# Now, for the remaining data, impute missing values where the missing data is below the threshold\n",
    "# Define a function to impute missing values for a column\n",
    "def impute_missing(df, column):\n",
    "    # Calculate the mean for the column, ignoring NaN values\n",
    "    mean_value = df[column].mean()\n",
    "    \n",
    "    # Only impute if the percentage of NaN is below the threshold\n",
    "    if df[column].isnull().mean() < missing_data_threshold:\n",
    "        df[column].fillna(mean_value, inplace=True)\n",
    "\n",
    "# Apply the imputation function to each numeric column\n",
    "numeric_cols = df.select_dtypes(include=[np.number]).columns\n",
    "for col in numeric_cols:\n",
    "    impute_missing(df, col)"
   ]
  },
  {
   "cell_type": "code",
   "execution_count": 43,
   "metadata": {},
   "outputs": [
    {
     "name": "stdout",
     "output_type": "stream",
     "text": [
      "             ID                 Name Event Status  Latitude  Longitude  \\\n",
      "19744  EP012004               AGATHA           TD      14.7     -107.6   \n",
      "19745  EP012004               AGATHA           TD      15.4     -108.5   \n",
      "19746  EP012004               AGATHA           TS      16.0     -109.1   \n",
      "19747  EP012004               AGATHA           TS      16.6     -109.6   \n",
      "19748  EP012004               AGATHA           TS      17.1     -109.9   \n",
      "\n",
      "       Maximum Wind  Minimum Pressure  Low Wind NE  Low Wind SE  ...  \\\n",
      "19744            25            1006.0          0.0          0.0  ...   \n",
      "19745            30            1006.0          0.0          0.0  ...   \n",
      "19746            35            1005.0         75.0         75.0  ...   \n",
      "19747            45            1000.0         75.0         75.0  ...   \n",
      "19748            50             997.0         75.0         75.0  ...   \n",
      "\n",
      "       Low Wind NW  Moderate Wind NE  Moderate Wind SE  Moderate Wind SW  \\\n",
      "19744          0.0               0.0               0.0               0.0   \n",
      "19745          0.0               0.0               0.0               0.0   \n",
      "19746         75.0               0.0               0.0               0.0   \n",
      "19747         75.0               0.0               0.0               0.0   \n",
      "19748         75.0              25.0              25.0              25.0   \n",
      "\n",
      "       Moderate Wind NW  High Wind NE  High Wind SE  High Wind SW  \\\n",
      "19744               0.0           0.0           0.0           0.0   \n",
      "19745               0.0           0.0           0.0           0.0   \n",
      "19746               0.0           0.0           0.0           0.0   \n",
      "19747               0.0           0.0           0.0           0.0   \n",
      "19748              25.0           0.0           0.0           0.0   \n",
      "\n",
      "       High Wind NW            DateTime  \n",
      "19744           0.0 2004-05-22 00:00:00  \n",
      "19745           0.0 2004-05-22 06:00:00  \n",
      "19746           0.0 2004-05-22 12:00:00  \n",
      "19747           0.0 2004-05-22 18:00:00  \n",
      "19748           0.0 2004-05-23 00:00:00  \n",
      "\n",
      "[5 rows x 21 columns] 134253\n"
     ]
    }
   ],
   "source": [
    "print(df.head(), df.size)"
   ]
  }
 ],
 "metadata": {
  "kernelspec": {
   "display_name": "Python 3",
   "language": "python",
   "name": "python3"
  },
  "language_info": {
   "codemirror_mode": {
    "name": "ipython",
    "version": 3
   },
   "file_extension": ".py",
   "mimetype": "text/x-python",
   "name": "python",
   "nbconvert_exporter": "python",
   "pygments_lexer": "ipython3",
   "version": "3.9.0"
  }
 },
 "nbformat": 4,
 "nbformat_minor": 2
}
