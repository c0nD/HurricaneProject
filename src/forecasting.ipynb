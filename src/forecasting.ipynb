{
 "cells": [
  {
   "cell_type": "code",
   "execution_count": 36,
   "metadata": {},
   "outputs": [],
   "source": [
    "import pandas as pd\n",
    "import numpy as np\n",
    "from sklearn.preprocessing import MinMaxScaler\n",
    "from keras.models import Sequential\n",
    "from keras.layers import LSTM, Dense\n",
    "from keras.optimizers import Adam"
   ]
  },
  {
   "cell_type": "code",
   "execution_count": 20,
   "metadata": {},
   "outputs": [],
   "source": [
    "# Load the data\n",
    "data = pd.read_csv('data/atlantic_post2003.csv')"
   ]
  },
  {
   "cell_type": "code",
   "execution_count": 24,
   "metadata": {},
   "outputs": [],
   "source": [
    "data['DateTime'] = pd.to_datetime(data['DateTime'])\n",
    "data.sort_values(by='DateTime', inplace=True)"
   ]
  },
  {
   "cell_type": "code",
   "execution_count": 25,
   "metadata": {},
   "outputs": [],
   "source": [
    "features = data[['Maximum Wind', 'Minimum Pressure']]\n",
    "targets = data[['Latitude', 'Longitude']]"
   ]
  },
  {
   "cell_type": "code",
   "execution_count": 26,
   "metadata": {},
   "outputs": [],
   "source": [
    "def create_sequences(input_data, output_data, sequence_length):\n",
    "    xs = []\n",
    "    ys = []\n",
    "    for i in range(len(input_data) - sequence_length):\n",
    "        x = input_data[i:(i + sequence_length)]\n",
    "        y = output_data[i + sequence_length]\n",
    "        xs.append(x)\n",
    "        ys.append(y)\n",
    "    return np.array(xs), np.array(ys)"
   ]
  },
  {
   "cell_type": "code",
   "execution_count": 29,
   "metadata": {},
   "outputs": [],
   "source": [
    "scaler = MinMaxScaler()\n",
    "scaled_features = scaler.fit_transform(features)"
   ]
  },
  {
   "cell_type": "code",
   "execution_count": 32,
   "metadata": {},
   "outputs": [],
   "source": [
    "sequence_length = 5\n",
    "X, y = create_sequences(scaled_features, targets.values, sequence_length)"
   ]
  },
  {
   "cell_type": "code",
   "execution_count": 33,
   "metadata": {},
   "outputs": [],
   "source": [
    "train_size = int(len(X) * 0.8)\n",
    "X_train, X_test = X[:train_size], X[train_size:]\n",
    "y_train, y_test = y[:train_size], y[train_size:]"
   ]
  },
  {
   "cell_type": "code",
   "execution_count": 42,
   "metadata": {},
   "outputs": [],
   "source": [
    "# LSTM model\n",
    "model = Sequential([\n",
    "    \n",
    "    LSTM(256, input_shape=(X_train.shape[1], X_train.shape[2]), return_sequences=True),\n",
    "    LSTM(128),\n",
    "    Dense(2)\n",
    "])"
   ]
  },
  {
   "cell_type": "code",
   "execution_count": 43,
   "metadata": {},
   "outputs": [],
   "source": [
    "model.compile(optimizer=Adam(learning_rate=0.001), loss='mean_squared_error')"
   ]
  },
  {
   "cell_type": "code",
   "execution_count": 44,
   "metadata": {},
   "outputs": [
    {
     "name": "stdout",
     "output_type": "stream",
     "text": [
      "Epoch 1/100\n",
      "34/34 [==============================] - 5s 58ms/step - loss: 2004.3271 - val_loss: 1388.5474\n",
      "Epoch 2/100\n",
      "34/34 [==============================] - 1s 35ms/step - loss: 1341.1296 - val_loss: 1104.5587\n",
      "Epoch 3/100\n",
      "34/34 [==============================] - 1s 35ms/step - loss: 1092.7722 - val_loss: 898.1549\n",
      "Epoch 4/100\n",
      "34/34 [==============================] - 1s 35ms/step - loss: 907.6383 - val_loss: 742.4294\n",
      "Epoch 5/100\n",
      "34/34 [==============================] - 1s 35ms/step - loss: 765.9288 - val_loss: 622.0735\n",
      "Epoch 6/100\n",
      "34/34 [==============================] - 1s 34ms/step - loss: 655.5854 - val_loss: 527.5349\n",
      "Epoch 7/100\n",
      "34/34 [==============================] - 1s 35ms/step - loss: 568.4775 - val_loss: 453.5933\n",
      "Epoch 8/100\n",
      "34/34 [==============================] - 1s 34ms/step - loss: 500.0466 - val_loss: 395.1325\n",
      "Epoch 9/100\n",
      "34/34 [==============================] - 1s 34ms/step - loss: 445.9988 - val_loss: 349.6332\n",
      "Epoch 10/100\n",
      "34/34 [==============================] - 1s 35ms/step - loss: 403.9757 - val_loss: 314.4969\n",
      "Epoch 11/100\n",
      "34/34 [==============================] - 1s 34ms/step - loss: 371.3904 - val_loss: 287.9755\n",
      "Epoch 12/100\n",
      "34/34 [==============================] - 1s 34ms/step - loss: 346.7891 - val_loss: 267.8956\n",
      "Epoch 13/100\n",
      "34/34 [==============================] - 1s 34ms/step - loss: 328.1388 - val_loss: 253.6132\n",
      "Epoch 14/100\n",
      "34/34 [==============================] - 1s 35ms/step - loss: 314.6062 - val_loss: 243.0105\n",
      "Epoch 15/100\n",
      "34/34 [==============================] - 1s 34ms/step - loss: 304.6842 - val_loss: 235.6301\n",
      "Epoch 16/100\n",
      "34/34 [==============================] - 1s 34ms/step - loss: 297.5806 - val_loss: 230.5754\n",
      "Epoch 17/100\n",
      "34/34 [==============================] - 1s 34ms/step - loss: 292.6440 - val_loss: 227.1248\n",
      "Epoch 18/100\n",
      "34/34 [==============================] - 1s 34ms/step - loss: 289.2577 - val_loss: 224.8098\n",
      "Epoch 19/100\n",
      "34/34 [==============================] - 1s 34ms/step - loss: 286.9095 - val_loss: 223.5001\n",
      "Epoch 20/100\n",
      "34/34 [==============================] - 1s 34ms/step - loss: 285.4124 - val_loss: 222.6426\n",
      "Epoch 21/100\n",
      "34/34 [==============================] - 1s 34ms/step - loss: 284.4431 - val_loss: 222.1367\n",
      "Epoch 22/100\n",
      "34/34 [==============================] - 1s 33ms/step - loss: 283.7961 - val_loss: 221.9067\n",
      "Epoch 23/100\n",
      "34/34 [==============================] - 1s 34ms/step - loss: 283.4071 - val_loss: 221.8006\n",
      "Epoch 24/100\n",
      "34/34 [==============================] - 1s 35ms/step - loss: 283.1782 - val_loss: 221.7753\n",
      "Epoch 25/100\n",
      "34/34 [==============================] - 1s 34ms/step - loss: 283.0194 - val_loss: 221.7801\n",
      "Epoch 26/100\n",
      "34/34 [==============================] - 1s 34ms/step - loss: 282.9328 - val_loss: 221.8063\n",
      "Epoch 27/100\n",
      "34/34 [==============================] - 1s 35ms/step - loss: 282.8824 - val_loss: 221.8435\n",
      "Epoch 28/100\n",
      "34/34 [==============================] - 1s 34ms/step - loss: 282.8616 - val_loss: 221.8479\n",
      "Epoch 29/100\n",
      "34/34 [==============================] - 1s 34ms/step - loss: 282.8609 - val_loss: 221.9301\n",
      "Epoch 30/100\n",
      "34/34 [==============================] - 1s 33ms/step - loss: 282.8230 - val_loss: 221.9256\n",
      "Epoch 31/100\n",
      "34/34 [==============================] - 1s 33ms/step - loss: 282.8240 - val_loss: 221.9509\n",
      "Epoch 32/100\n",
      "34/34 [==============================] - 1s 34ms/step - loss: 282.8265 - val_loss: 221.9659\n",
      "Epoch 33/100\n",
      "34/34 [==============================] - 1s 34ms/step - loss: 282.8241 - val_loss: 221.9657\n",
      "Epoch 34/100\n",
      "34/34 [==============================] - 1s 33ms/step - loss: 282.8271 - val_loss: 222.0149\n",
      "Epoch 35/100\n",
      "34/34 [==============================] - 1s 34ms/step - loss: 282.8186 - val_loss: 221.9785\n",
      "Epoch 36/100\n",
      "34/34 [==============================] - 1s 34ms/step - loss: 282.8297 - val_loss: 221.9852\n",
      "Epoch 37/100\n",
      "34/34 [==============================] - 1s 33ms/step - loss: 282.8274 - val_loss: 222.0215\n",
      "Epoch 38/100\n",
      "34/34 [==============================] - 1s 34ms/step - loss: 282.8298 - val_loss: 221.9959\n",
      "Epoch 39/100\n",
      "34/34 [==============================] - 1s 34ms/step - loss: 282.8271 - val_loss: 222.0051\n",
      "Epoch 40/100\n",
      "34/34 [==============================] - 1s 34ms/step - loss: 282.8413 - val_loss: 222.0308\n",
      "Epoch 41/100\n",
      "34/34 [==============================] - 1s 34ms/step - loss: 282.8297 - val_loss: 222.0004\n",
      "Epoch 42/100\n",
      "34/34 [==============================] - 1s 34ms/step - loss: 282.8300 - val_loss: 221.9974\n",
      "Epoch 43/100\n",
      "34/34 [==============================] - 1s 34ms/step - loss: 282.8328 - val_loss: 222.0105\n",
      "Epoch 44/100\n",
      "34/34 [==============================] - 1s 34ms/step - loss: 282.8281 - val_loss: 222.0035\n",
      "Epoch 45/100\n",
      "34/34 [==============================] - 1s 34ms/step - loss: 282.8977 - val_loss: 222.0757\n",
      "Epoch 46/100\n",
      "34/34 [==============================] - 1s 34ms/step - loss: 282.8650 - val_loss: 221.9537\n",
      "Epoch 47/100\n",
      "34/34 [==============================] - 1s 34ms/step - loss: 282.8141 - val_loss: 221.9980\n",
      "Epoch 48/100\n",
      "34/34 [==============================] - 1s 34ms/step - loss: 282.8361 - val_loss: 222.0393\n",
      "Epoch 49/100\n",
      "34/34 [==============================] - 1s 34ms/step - loss: 282.8158 - val_loss: 222.0398\n",
      "Epoch 50/100\n",
      "34/34 [==============================] - 1s 34ms/step - loss: 282.8547 - val_loss: 221.9570\n",
      "Epoch 51/100\n",
      "34/34 [==============================] - 1s 34ms/step - loss: 282.8254 - val_loss: 221.9970\n",
      "Epoch 52/100\n",
      "34/34 [==============================] - 1s 34ms/step - loss: 282.8395 - val_loss: 221.9983\n",
      "Epoch 53/100\n",
      "34/34 [==============================] - 1s 34ms/step - loss: 282.8423 - val_loss: 222.0031\n",
      "Epoch 54/100\n",
      "34/34 [==============================] - 1s 34ms/step - loss: 282.8318 - val_loss: 221.9788\n",
      "Epoch 55/100\n",
      "34/34 [==============================] - 1s 34ms/step - loss: 282.8224 - val_loss: 222.0187\n",
      "Epoch 56/100\n",
      "34/34 [==============================] - 1s 34ms/step - loss: 282.8156 - val_loss: 221.9976\n",
      "Epoch 57/100\n",
      "34/34 [==============================] - 1s 34ms/step - loss: 282.8352 - val_loss: 222.0178\n",
      "Epoch 58/100\n",
      "34/34 [==============================] - 1s 33ms/step - loss: 282.8850 - val_loss: 222.0300\n",
      "Epoch 59/100\n",
      "34/34 [==============================] - 1s 34ms/step - loss: 282.8387 - val_loss: 221.9646\n",
      "Epoch 60/100\n",
      "34/34 [==============================] - 1s 34ms/step - loss: 282.8385 - val_loss: 222.0206\n",
      "Epoch 61/100\n",
      "34/34 [==============================] - 1s 34ms/step - loss: 282.8276 - val_loss: 222.0133\n",
      "Epoch 62/100\n",
      "34/34 [==============================] - 1s 34ms/step - loss: 282.8338 - val_loss: 222.0276\n",
      "Epoch 63/100\n",
      "34/34 [==============================] - 1s 35ms/step - loss: 282.8404 - val_loss: 222.0621\n",
      "Epoch 64/100\n",
      "34/34 [==============================] - 1s 34ms/step - loss: 282.8408 - val_loss: 221.9443\n",
      "Epoch 65/100\n",
      "34/34 [==============================] - 1s 33ms/step - loss: 282.8376 - val_loss: 222.0033\n",
      "Epoch 66/100\n",
      "34/34 [==============================] - 1s 34ms/step - loss: 282.8282 - val_loss: 221.9613\n",
      "Epoch 67/100\n",
      "34/34 [==============================] - 1s 34ms/step - loss: 282.8384 - val_loss: 221.9828\n",
      "Epoch 68/100\n",
      "34/34 [==============================] - 1s 34ms/step - loss: 282.8384 - val_loss: 222.0041\n",
      "Epoch 69/100\n",
      "34/34 [==============================] - 1s 34ms/step - loss: 282.8367 - val_loss: 221.9734\n",
      "Epoch 70/100\n",
      "34/34 [==============================] - 1s 34ms/step - loss: 282.8367 - val_loss: 222.0210\n",
      "Epoch 71/100\n",
      "34/34 [==============================] - 1s 34ms/step - loss: 282.8416 - val_loss: 222.0480\n",
      "Epoch 72/100\n",
      "34/34 [==============================] - 1s 34ms/step - loss: 282.8386 - val_loss: 221.9347\n",
      "Epoch 73/100\n",
      "34/34 [==============================] - 1s 34ms/step - loss: 282.8371 - val_loss: 222.0373\n",
      "Epoch 74/100\n",
      "34/34 [==============================] - 1s 34ms/step - loss: 282.8540 - val_loss: 222.0803\n",
      "Epoch 75/100\n",
      "34/34 [==============================] - 1s 34ms/step - loss: 282.8386 - val_loss: 221.9902\n",
      "Epoch 76/100\n",
      "34/34 [==============================] - 1s 34ms/step - loss: 282.8672 - val_loss: 222.0727\n",
      "Epoch 77/100\n",
      "34/34 [==============================] - 1s 34ms/step - loss: 282.8650 - val_loss: 222.0461\n",
      "Epoch 78/100\n",
      "34/34 [==============================] - 1s 36ms/step - loss: 282.8734 - val_loss: 221.9554\n",
      "Epoch 79/100\n",
      "34/34 [==============================] - 1s 37ms/step - loss: 282.8417 - val_loss: 221.9997\n",
      "Epoch 80/100\n",
      "34/34 [==============================] - 1s 37ms/step - loss: 282.8525 - val_loss: 222.0175\n",
      "Epoch 81/100\n",
      "34/34 [==============================] - 1s 37ms/step - loss: 282.8399 - val_loss: 221.9718\n",
      "Epoch 82/100\n",
      "34/34 [==============================] - 1s 35ms/step - loss: 282.8354 - val_loss: 222.0148\n",
      "Epoch 83/100\n",
      "34/34 [==============================] - 1s 35ms/step - loss: 282.8855 - val_loss: 222.1352\n",
      "Epoch 84/100\n",
      "34/34 [==============================] - 1s 35ms/step - loss: 282.8355 - val_loss: 222.0356\n",
      "Epoch 85/100\n",
      "34/34 [==============================] - 1s 34ms/step - loss: 282.8474 - val_loss: 222.0055\n",
      "Epoch 86/100\n",
      "34/34 [==============================] - 1s 35ms/step - loss: 282.8658 - val_loss: 221.9892\n",
      "Epoch 87/100\n",
      "34/34 [==============================] - 1s 36ms/step - loss: 282.9026 - val_loss: 222.0472\n",
      "Epoch 88/100\n",
      "34/34 [==============================] - 1s 35ms/step - loss: 282.8445 - val_loss: 221.9616\n",
      "Epoch 89/100\n",
      "34/34 [==============================] - 1s 35ms/step - loss: 282.8690 - val_loss: 221.9889\n",
      "Epoch 90/100\n",
      "34/34 [==============================] - 1s 35ms/step - loss: 282.8531 - val_loss: 221.9641\n",
      "Epoch 91/100\n",
      "34/34 [==============================] - 1s 34ms/step - loss: 282.8409 - val_loss: 222.0294\n",
      "Epoch 92/100\n",
      "25/34 [=====================>........] - ETA: 0s - loss: 283.3770"
     ]
    }
   ],
   "source": [
    "history = model.fit(X_train, y_train, epochs=100, batch_size=128, validation_split=0.1, verbose=1)"
   ]
  },
  {
   "cell_type": "code",
   "execution_count": 41,
   "metadata": {},
   "outputs": [
    {
     "name": "stdout",
     "output_type": "stream",
     "text": [
      "Test loss: 320.52044677734375\n"
     ]
    }
   ],
   "source": [
    "loss = model.evaluate(X_test, y_test, verbose=0)\n",
    "print(\"Test loss:\", loss)"
   ]
  }
 ],
 "metadata": {
  "kernelspec": {
   "display_name": "Python 3",
   "language": "python",
   "name": "python3"
  },
  "language_info": {
   "codemirror_mode": {
    "name": "ipython",
    "version": 3
   },
   "file_extension": ".py",
   "mimetype": "text/x-python",
   "name": "python",
   "nbconvert_exporter": "python",
   "pygments_lexer": "ipython3",
   "version": "3.9.0"
  }
 },
 "nbformat": 4,
 "nbformat_minor": 2
}
